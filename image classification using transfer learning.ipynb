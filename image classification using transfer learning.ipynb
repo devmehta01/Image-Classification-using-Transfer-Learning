{
  "nbformat": 4,
  "nbformat_minor": 0,
  "metadata": {
    "colab": {
      "provenance": [],
      "collapsed_sections": []
    },
    "kernelspec": {
      "name": "python3",
      "display_name": "Python 3"
    },
    "language_info": {
      "name": "python"
    },
    "accelerator": "GPU"
  },
  "cells": [
    {
      "cell_type": "code",
      "source": [
        "#Import requirements\n",
        "import numpy as np\n",
        "import pandas as pd\n",
        "import matplotlib.pyplot as plt\n",
        "import tensorflow as tf\n",
        "import keras\n",
        "from tensorflow.keras.utils import to_categorical\n",
        "from tensorflow.keras.applications.vgg16 import VGG16\n",
        "from tensorflow.keras.applications.vgg16 import preprocess_input\n",
        "from keras.models import Sequential\n",
        "from keras.layers import Dense, Flatten, Dropout, UpSampling2D\n",
        "from tensorflow.keras.callbacks import EarlyStopping"
      ],
      "metadata": {
        "id": "4WSKnG281Fc5"
      },
      "execution_count": null,
      "outputs": []
    },
    {
      "cell_type": "code",
      "execution_count": null,
      "metadata": {
        "id": "-7TC8vo6zQb8"
      },
      "outputs": [],
      "source": [
        "#Load data\n",
        "(x_train, y_train), (x_test, y_test) = keras.datasets.cifar10.load_data()"
      ]
    },
    {
      "cell_type": "code",
      "source": [
        "y_train = to_categorical(y_train, num_classes=10)\n",
        "y_test = to_categorical(y_test, num_classes=10)"
      ],
      "metadata": {
        "id": "jHu4Fc863-Sm"
      },
      "execution_count": null,
      "outputs": []
    },
    {
      "cell_type": "code",
      "source": [
        "print(x_train.shape)\n",
        "print(y_train.shape)\n",
        "print(x_test.shape)\n",
        "print(y_test.shape)"
      ],
      "metadata": {
        "colab": {
          "base_uri": "https://localhost:8080/"
        },
        "id": "zU_V7hhx0_Lr",
        "outputId": "9d607b29-4757-43ea-c029-ac9df9f59a97"
      },
      "execution_count": null,
      "outputs": [
        {
          "output_type": "stream",
          "name": "stdout",
          "text": [
            "(50000, 32, 32, 3)\n",
            "(50000, 10)\n",
            "(10000, 32, 32, 3)\n",
            "(10000, 10)\n"
          ]
        }
      ]
    },
    {
      "cell_type": "code",
      "source": [
        "y_classes = [\"airplane\", \"automobile\", \"bird\", \"cat\", \"deer\", \"dog\", \"frog\", \"horse\", \"ship\", \"truck\"]"
      ],
      "metadata": {
        "id": "ulupXzyN2zix"
      },
      "execution_count": null,
      "outputs": []
    },
    {
      "cell_type": "code",
      "source": [
        "plt.imshow(x_train[0])\n",
        "print(y_classes[np.argmax(y_train[0])])"
      ],
      "metadata": {
        "colab": {
          "base_uri": "https://localhost:8080/",
          "height": 283
        },
        "id": "jiOoIky11mIa",
        "outputId": "19bd1034-8050-48e6-d870-8af28d2bde2c"
      },
      "execution_count": null,
      "outputs": [
        {
          "output_type": "stream",
          "name": "stdout",
          "text": [
            "frog\n"
          ]
        },
        {
          "output_type": "display_data",
          "data": {
            "text/plain": [
              "<Figure size 432x288 with 1 Axes>"
            ],
            "image/png": "[encoded data removed]"
          },
          "metadata": {
            "needs_background": "light"
          }
        }
      ]
    },
    {
      "cell_type": "code",
      "source": [
        "plt.imshow(x_train[1])\n",
        "print(y_classes[np.argmax(y_train[1])])"
      ],
      "metadata": {
        "colab": {
          "base_uri": "https://localhost:8080/",
          "height": 283
        },
        "id": "LSC16NSn2QGq",
        "outputId": "e4c29cb9-e3ce-4e69-b1d6-5cef798978d7"
      },
      "execution_count": null,
      "outputs": [
        {
          "output_type": "stream",
          "name": "stdout",
          "text": [
            "truck\n"
          ]
        },
        {
          "output_type": "display_data",
          "data": {
            "text/plain": [
              "<Figure size 432x288 with 1 Axes>"
            ],
            "image/png": "[encoded data removed]"
          },
          "metadata": {
            "needs_background": "light"
          }
        }
      ]
    },
    {
      "cell_type": "code",
      "source": [
        "#import VGG-16 model\n",
        "base_model = VGG16(weights=\"imagenet\", include_top=False, input_shape=x_train[0].shape)\n",
        "base_model.trainable = False ## Not trainable weights\n",
        "\n",
        "#preprocess input\n",
        "x_train = preprocess_input(x_train) \n",
        "x_test = preprocess_input(x_test)"
      ],
      "metadata": {
        "id": "s2yN0gr_304m"
      },
      "execution_count": null,
      "outputs": []
    },
    {
      "cell_type": "code",
      "source": [
        "#summary of base model\n",
        "base_model.summary()"
      ],
      "metadata": {
        "colab": {
          "base_uri": "https://localhost:8080/"
        },
        "id": "ltA4x8r76BTX",
        "outputId": "f60490e8-258b-4b51-cec9-0d0a302abade"
      },
      "execution_count": null,
      "outputs": [
        {
          "output_type": "stream",
          "name": "stdout",
          "text": [
            "Model: \"vgg16\"\n",
            "_________________________________________________________________\n",
            " Layer (type)                Output Shape              Param #   \n",
            "=================================================================\n",
            " input_1 (InputLayer)        [(None, 32, 32, 3)]       0         \n",
            "                                                                 \n",
            " block1_conv1 (Conv2D)       (None, 32, 32, 64)        1792      \n",
            "                                                                 \n",
            " block1_conv2 (Conv2D)       (None, 32, 32, 64)        36928     \n",
            "                                                                 \n",
            " block1_pool (MaxPooling2D)  (None, 16, 16, 64)        0         \n",
            "                                                                 \n",
            " block2_conv1 (Conv2D)       (None, 16, 16, 128)       73856     \n",
            "                                                                 \n",
            " block2_conv2 (Conv2D)       (None, 16, 16, 128)       147584    \n",
            "                                                                 \n",
            " block2_pool (MaxPooling2D)  (None, 8, 8, 128)         0         \n",
            "                                                                 \n",
            " block3_conv1 (Conv2D)       (None, 8, 8, 256)         295168    \n",
            "                                                                 \n",
            " block3_conv2 (Conv2D)       (None, 8, 8, 256)         590080    \n",
            "                                                                 \n",
            " block3_conv3 (Conv2D)       (None, 8, 8, 256)         590080    \n",
            "                                                                 \n",
            " block3_pool (MaxPooling2D)  (None, 4, 4, 256)         0         \n",
            "                                                                 \n",
            " block4_conv1 (Conv2D)       (None, 4, 4, 512)         1180160   \n",
            "                                                                 \n",
            " block4_conv2 (Conv2D)       (None, 4, 4, 512)         2359808   \n",
            "                                                                 \n",
            " block4_conv3 (Conv2D)       (None, 4, 4, 512)         2359808   \n",
            "                                                                 \n",
            " block4_pool (MaxPooling2D)  (None, 2, 2, 512)         0         \n",
            "                                                                 \n",
            " block5_conv1 (Conv2D)       (None, 2, 2, 512)         2359808   \n",
            "                                                                 \n",
            " block5_conv2 (Conv2D)       (None, 2, 2, 512)         2359808   \n",
            "                                                                 \n",
            " block5_conv3 (Conv2D)       (None, 2, 2, 512)         2359808   \n",
            "                                                                 \n",
            " block5_pool (MaxPooling2D)  (None, 1, 1, 512)         0         \n",
            "                                                                 \n",
            "=================================================================\n",
            "Total params: 14,714,688\n",
            "Trainable params: 0\n",
            "Non-trainable params: 14,714,688\n",
            "_________________________________________________________________\n"
          ]
        }
      ]
    },
    {
      "cell_type": "code",
      "source": [
        "#add our classification layers\n",
        "model = Sequential([base_model])\n",
        "model.add(Flatten())\n",
        "model.add(Dense(512, activation='relu'))\n",
        "model.add(Dropout(0.2))\n",
        "model.add(Dense(256, activation='relu'))\n",
        "model.add(Dropout(0.2))\n",
        "model.add(Dense(10, activation='softmax'))"
      ],
      "metadata": {
        "id": "oBdxvcCZPKq4"
      },
      "execution_count": null,
      "outputs": []
    },
    {
      "cell_type": "code",
      "source": [
        "#compile model\n",
        "model.compile(optimizer='adam', loss='categorical_crossentropy', metrics=['accuracy'])"
      ],
      "metadata": {
        "id": "_JIUeO4p72Dz"
      },
      "execution_count": null,
      "outputs": []
    },
    {
      "cell_type": "code",
      "source": [
        "#summary of final model\n",
        "model.summary()"
      ],
      "metadata": {
        "colab": {
          "base_uri": "https://localhost:8080/"
        },
        "id": "bANSIqY48ZrY",
        "outputId": "9d282a01-94d8-4cb0-8cc1-166b8a07dad2"
      },
      "execution_count": null,
      "outputs": [
        {
          "output_type": "stream",
          "name": "stdout",
          "text": [
            "Model: \"sequential\"\n",
            "_________________________________________________________________\n",
            " Layer (type)                Output Shape              Param #   \n",
            "=================================================================\n",
            " vgg16 (Functional)          (None, 1, 1, 512)         14714688  \n",
            "                                                                 \n",
            " flatten (Flatten)           (None, 512)               0         \n",
            "                                                                 \n",
            " dense (Dense)               (None, 512)               262656    \n",
            "                                                                 \n",
            " dropout (Dropout)           (None, 512)               0         \n",
            "                                                                 \n",
            " dense_1 (Dense)             (None, 256)               131328    \n",
            "                                                                 \n",
            " dropout_1 (Dropout)         (None, 256)               0         \n",
            "                                                                 \n",
            " dense_2 (Dense)             (None, 10)                2570      \n",
            "                                                                 \n",
            "=================================================================\n",
            "Total params: 15,111,242\n",
            "Trainable params: 396,554\n",
            "Non-trainable params: 14,714,688\n",
            "_________________________________________________________________\n"
          ]
        }
      ]
    },
    {
      "cell_type": "code",
      "source": [
        "#Train model\n",
        "history = model.fit(x_train, y_train, epochs=30, validation_split=0.2, batch_size=128)"
      ],
      "metadata": {
        "colab": {
          "base_uri": "https://localhost:8080/"
        },
        "id": "sATpj3cBP76C",
        "outputId": "14ff64fb-5ec0-401a-c681-1942e33d8ebc"
      },
      "execution_count": null,
      "outputs": [
        {
          "output_type": "stream",
          "name": "stdout",
          "text": [
            "Epoch 1/30\n",
            "313/313 [==============================] - 18s 27ms/step - loss: 1.8892 - accuracy: 0.4837 - val_loss: 1.1579 - val_accuracy: 0.5988\n",
            "Epoch 2/30\n",
            "313/313 [==============================] - 7s 24ms/step - loss: 1.1555 - accuracy: 0.5983 - val_loss: 1.0613 - val_accuracy: 0.6312\n",
            "Epoch 3/30\n",
            "313/313 [==============================] - 8s 24ms/step - loss: 1.0241 - accuracy: 0.6428 - val_loss: 1.0205 - val_accuracy: 0.6478\n",
            "Epoch 4/30\n",
            "313/313 [==============================] - 8s 24ms/step - loss: 0.9328 - accuracy: 0.6725 - val_loss: 1.0022 - val_accuracy: 0.6571\n",
            "Epoch 5/30\n",
            "313/313 [==============================] - 8s 24ms/step - loss: 0.8641 - accuracy: 0.6921 - val_loss: 0.9894 - val_accuracy: 0.6617\n",
            "Epoch 6/30\n",
            "313/313 [==============================] - 8s 25ms/step - loss: 0.8082 - accuracy: 0.7134 - val_loss: 0.9859 - val_accuracy: 0.6657\n",
            "Epoch 7/30\n",
            "313/313 [==============================] - 8s 25ms/step - loss: 0.7488 - accuracy: 0.7298 - val_loss: 0.9868 - val_accuracy: 0.6694\n",
            "Epoch 8/30\n",
            "313/313 [==============================] - 9s 28ms/step - loss: 0.6960 - accuracy: 0.7511 - val_loss: 1.0016 - val_accuracy: 0.6712\n",
            "Epoch 9/30\n",
            "313/313 [==============================] - 8s 25ms/step - loss: 0.6496 - accuracy: 0.7649 - val_loss: 1.0153 - val_accuracy: 0.6720\n",
            "Epoch 10/30\n",
            "313/313 [==============================] - 8s 25ms/step - loss: 0.6050 - accuracy: 0.7789 - val_loss: 1.0458 - val_accuracy: 0.6686\n",
            "Epoch 11/30\n",
            "313/313 [==============================] - 8s 25ms/step - loss: 0.5589 - accuracy: 0.7955 - val_loss: 1.0778 - val_accuracy: 0.6626\n",
            "Epoch 12/30\n",
            "313/313 [==============================] - 9s 28ms/step - loss: 0.5282 - accuracy: 0.8079 - val_loss: 1.1130 - val_accuracy: 0.6656\n",
            "Epoch 13/30\n",
            "313/313 [==============================] - 8s 25ms/step - loss: 0.4931 - accuracy: 0.8221 - val_loss: 1.1483 - val_accuracy: 0.6705\n",
            "Epoch 14/30\n",
            "313/313 [==============================] - 8s 24ms/step - loss: 0.4637 - accuracy: 0.8306 - val_loss: 1.1855 - val_accuracy: 0.6744\n",
            "Epoch 15/30\n",
            "313/313 [==============================] - 8s 25ms/step - loss: 0.4403 - accuracy: 0.8399 - val_loss: 1.2031 - val_accuracy: 0.6710\n",
            "Epoch 16/30\n",
            "313/313 [==============================] - 9s 28ms/step - loss: 0.4155 - accuracy: 0.8485 - val_loss: 1.2307 - val_accuracy: 0.6724\n",
            "Epoch 17/30\n",
            "313/313 [==============================] - 8s 25ms/step - loss: 0.3851 - accuracy: 0.8605 - val_loss: 1.2573 - val_accuracy: 0.6749\n",
            "Epoch 18/30\n",
            "313/313 [==============================] - 8s 25ms/step - loss: 0.3665 - accuracy: 0.8662 - val_loss: 1.2894 - val_accuracy: 0.6652\n",
            "Epoch 19/30\n",
            "313/313 [==============================] - 8s 25ms/step - loss: 0.3545 - accuracy: 0.8724 - val_loss: 1.3379 - val_accuracy: 0.6661\n",
            "Epoch 20/30\n",
            "313/313 [==============================] - 8s 25ms/step - loss: 0.3373 - accuracy: 0.8783 - val_loss: 1.3666 - val_accuracy: 0.6705\n",
            "Epoch 21/30\n",
            "313/313 [==============================] - 8s 25ms/step - loss: 0.3158 - accuracy: 0.8873 - val_loss: 1.3809 - val_accuracy: 0.6668\n",
            "Epoch 22/30\n",
            "313/313 [==============================] - 9s 28ms/step - loss: 0.3048 - accuracy: 0.8921 - val_loss: 1.4684 - val_accuracy: 0.6677\n",
            "Epoch 23/30\n",
            "313/313 [==============================] - 8s 25ms/step - loss: 0.2929 - accuracy: 0.8974 - val_loss: 1.5061 - val_accuracy: 0.6723\n",
            "Epoch 24/30\n",
            "313/313 [==============================] - 8s 25ms/step - loss: 0.2830 - accuracy: 0.9003 - val_loss: 1.4683 - val_accuracy: 0.6736\n",
            "Epoch 25/30\n",
            "313/313 [==============================] - 8s 25ms/step - loss: 0.2708 - accuracy: 0.9046 - val_loss: 1.5474 - val_accuracy: 0.6650\n",
            "Epoch 26/30\n",
            "313/313 [==============================] - 8s 25ms/step - loss: 0.2636 - accuracy: 0.9076 - val_loss: 1.6098 - val_accuracy: 0.6725\n",
            "Epoch 27/30\n",
            "313/313 [==============================] - 9s 28ms/step - loss: 0.2497 - accuracy: 0.9139 - val_loss: 1.5450 - val_accuracy: 0.6692\n",
            "Epoch 28/30\n",
            "313/313 [==============================] - 8s 25ms/step - loss: 0.2496 - accuracy: 0.9134 - val_loss: 1.5986 - val_accuracy: 0.6674\n",
            "Epoch 29/30\n",
            "313/313 [==============================] - 9s 28ms/step - loss: 0.2451 - accuracy: 0.9155 - val_loss: 1.6626 - val_accuracy: 0.6666\n",
            "Epoch 30/30\n",
            "313/313 [==============================] - 8s 25ms/step - loss: 0.2236 - accuracy: 0.9212 - val_loss: 1.7115 - val_accuracy: 0.6702\n"
          ]
        }
      ]
    },
    {
      "cell_type": "code",
      "source": [
        "history.history.keys()"
      ],
      "metadata": {
        "colab": {
          "base_uri": "https://localhost:8080/"
        },
        "id": "xR1v16uNKMYU",
        "outputId": "832f6bff-6377-4def-a056-9b00026d317a"
      },
      "execution_count": null,
      "outputs": [
        {
          "output_type": "execute_result",
          "data": {
            "text/plain": [
              "dict_keys(['loss', 'accuracy', 'val_loss', 'val_accuracy'])"
            ]
          },
          "metadata": {},
          "execution_count": 14
        }
      ]
    },
    {
      "cell_type": "code",
      "source": [
        "# summarize history for accuracy\n",
        "plt.plot(history.history['accuracy'])\n",
        "plt.plot(history.history['val_accuracy'])\n",
        "plt.title('model accuracy')\n",
        "plt.ylabel('accuracy')\n",
        "plt.xlabel('epoch')\n",
        "plt.legend(['train', 'test'], loc='upper left')\n",
        "plt.show()\n",
        "# summarize history for loss\n",
        "plt.plot(history.history['loss'])\n",
        "plt.plot(history.history['val_loss'])\n",
        "plt.title('model loss')\n",
        "plt.ylabel('loss')\n",
        "plt.xlabel('epoch')\n",
        "plt.legend(['train', 'val'], loc='upper left')\n",
        "plt.show()"
      ],
      "metadata": {
        "colab": {
          "base_uri": "https://localhost:8080/",
          "height": 573
        },
        "id": "J99pS2rvKcLb",
        "outputId": "b06e401c-c07c-4dcc-f5c7-f312848231d7"
      },
      "execution_count": null,
      "outputs": [
        {
          "output_type": "display_data",
          "data": {
            "text/plain": [
              "<Figure size 432x288 with 1 Axes>"
            ],
            "image/png": "[encoded data removed]"
          },
          "metadata": {
            "needs_background": "light"
          }
        },
        {
          "output_type": "display_data",
          "data": {
            "text/plain": [
              "<Figure size 432x288 with 1 Axes>"
            ],
            "image/png": "[encoded data removed]"
          },
          "metadata": {
            "needs_background": "light"
          }
        }
      ]
    },
    {
      "cell_type": "code",
      "source": [
        "model.evaluate(x_test, y_test)"
      ],
      "metadata": {
        "colab": {
          "base_uri": "https://localhost:8080/"
        },
        "id": "2YhCz7eryMC1",
        "outputId": "1c8d3d14-f018-49bb-bf1b-076259205fd9"
      },
      "execution_count": null,
      "outputs": [
        {
          "output_type": "stream",
          "name": "stdout",
          "text": [
            "313/313 [==============================] - 4s 11ms/step - loss: 1.7181 - accuracy: 0.6645\n"
          ]
        },
        {
          "output_type": "execute_result",
          "data": {
            "text/plain": [
              "[1.7181050777435303, 0.6644999980926514]"
            ]
          },
          "metadata": {},
          "execution_count": 16
        }
      ]
    },
    {
      "cell_type": "code",
      "source": [
        "pred = model.predict(x_test)"
      ],
      "metadata": {
        "id": "ukJPFTaPXKcs"
      },
      "execution_count": null,
      "outputs": []
    },
    {
      "cell_type": "code",
      "source": [
        "plt.imshow(x_test[0])\n",
        "print(\"actual class:\" + y_classes[np.argmax(y_test[0])])\n",
        "print(\"predicted class:\" + y_classes[np.argmax(pred[0])])"
      ],
      "metadata": {
        "id": "nsLW8TYOAuNr",
        "colab": {
          "base_uri": "https://localhost:8080/",
          "height": 318
        },
        "outputId": "ae7f95bc-4db6-4190-ba5c-a444a4ac08c4"
      },
      "execution_count": null,
      "outputs": [
        {
          "output_type": "stream",
          "name": "stderr",
          "text": [
            "Clipping input data to the valid range for imshow with RGB data ([0..1] for floats or [0..255] for integers).\n"
          ]
        },
        {
          "output_type": "stream",
          "name": "stdout",
          "text": [
            "actual class:cat\n",
            "predicted class:cat\n"
          ]
        },
        {
          "output_type": "display_data",
          "data": {
            "text/plain": [
              "<Figure size 432x288 with 1 Axes>"
            ],
            "image/png": "[encoded data removed]"
          },
          "metadata": {
            "needs_background": "light"
          }
        }
      ]
    },
    {
      "cell_type": "code",
      "source": [
        "plt.imshow(x_test[1])\n",
        "print(\"actual class:\" + y_classes[np.argmax(y_test[1])])\n",
        "print(\"predicted class:\" + y_classes[np.argmax(pred[1])])"
      ],
      "metadata": {
        "colab": {
          "base_uri": "https://localhost:8080/",
          "height": 318
        },
        "id": "R1E0QLdk2nL7",
        "outputId": "8ad093f1-ebd9-4f29-904f-de389195a64e"
      },
      "execution_count": null,
      "outputs": [
        {
          "output_type": "stream",
          "name": "stderr",
          "text": [
            "Clipping input data to the valid range for imshow with RGB data ([0..1] for floats or [0..255] for integers).\n"
          ]
        },
        {
          "output_type": "stream",
          "name": "stdout",
          "text": [
            "actual class:ship\n",
            "predicted class:ship\n"
          ]
        },
        {
          "output_type": "display_data",
          "data": {
            "text/plain": [
              "<Figure size 432x288 with 1 Axes>"
            ],
            "image/png": "[encoded data removed]"
          },
          "metadata": {
            "needs_background": "light"
          }
        }
      ]
    },
    {
      "cell_type": "code",
      "source": [],
      "metadata": {
        "id": "WzHFqJiH2vaQ"
      },
      "execution_count": null,
      "outputs": []
    }
  ]
}